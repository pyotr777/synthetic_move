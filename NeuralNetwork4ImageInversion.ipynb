{
 "cells": [
  {
   "cell_type": "markdown",
   "metadata": {},
   "source": [
    "# Create Neural Network for Image Inversion with numpy"
   ]
  },
  {
   "cell_type": "markdown",
   "metadata": {},
   "source": [
    "### I. Read training data"
   ]
  },
  {
   "cell_type": "code",
   "execution_count": 10,
   "metadata": {
    "collapsed": true
   },
   "outputs": [],
   "source": [
    "import numpy as np\n",
    "from PIL import Image\n",
    "%matplotlib inline\n",
    "import matplotlib.pyplot as plt\n",
    "import os"
   ]
  },
  {
   "cell_type": "code",
   "execution_count": 13,
   "metadata": {
    "collapsed": true
   },
   "outputs": [],
   "source": [
    "# Convert PIL image to array normalised to 0 to 1 rage.\n",
    "max_color = 255\n",
    "def image_2_array(filename):\n",
    "    pil_img=Image.open(filename)\n",
    "    pil_arr=np.array(pil_img)\n",
    "    pil_scaled_arr = (pil_arr / max_color)\n",
    "    return pil_img, pil_scaled_arr\n",
    "\n",
    "# Invert grayscale PIL image\n",
    "def invert_array(arr):\n",
    "    inverted_arr = 1 - arr\n",
    "    return inverted_arr\n",
    "    \n",
    "# Convert normalized array to PIL image\n",
    "def array_2_image(arr):\n",
    "    arr_scaled = (arr) * max_color\n",
    "    im = Image.fromarray(arr_scaled)\n",
    "    return im"
   ]
  },
  {
   "cell_type": "code",
   "execution_count": 18,
   "metadata": {
    "collapsed": false
   },
   "outputs": [
    {
     "name": "stdout",
     "output_type": "stream",
     "text": [
      "(400000,)\n",
      "(400000,)\n"
     ]
    }
   ],
   "source": [
    "# Read training images into array of shape (m_samples, imsize, imsize, 1)\n",
    "train_data_onedimension = np.array([])\n",
    "train_labl_onedimension = np.array([])\n",
    "DIR=\"imgset20x20x1000\"\n",
    "imsize=20\n",
    "orig_pattern = DIR + \"/origin*\"\n",
    "invr_pattern = DIR + \"/inverse*\"\n",
    "import glob\n",
    "for f in glob.glob(orig_pattern):\n",
    "    img,a = image_2_array(f)\n",
    "    train_data_onedimension = np.append(train_data_onedimension,a)\n",
    "for f in glob.glob(invr_pattern):\n",
    "    img,a = image_2_array(f)\n",
    "    train_labl_onedimension = np.append(train_labl_onedimension,a)\n",
    "\n",
    "print train_data_onedimension.shape\n",
    "print train_labl_onedimension.shape"
   ]
  },
  {
   "cell_type": "code",
   "execution_count": 19,
   "metadata": {
    "collapsed": false
   },
   "outputs": [
    {
     "name": "stdout",
     "output_type": "stream",
     "text": [
      "(1000, 20, 20, 1)\n",
      "(1000, 20, 20, 1)\n"
     ]
    }
   ],
   "source": [
    "m_samples = train_data_onedimension.shape[0] / imsize / imsize\n",
    "train_data = train_data_onedimension.reshape(m_samples, imsize, imsize, 1)\n",
    "train_labl = train_labl_onedimension.reshape(m_samples, imsize, imsize, 1)\n",
    "print train_data.shape\n",
    "print train_labl.shape\n"
   ]
  },
  {
   "cell_type": "code",
   "execution_count": 21,
   "metadata": {
    "collapsed": false
   },
   "outputs": [
    {
     "name": "stdout",
     "output_type": "stream",
     "text": [
      "Dataset dimentions:\n",
      "(700, 20, 20, 1)\n",
      "(700, 20, 20, 1)\n",
      "(300, 20, 20, 1)\n",
      "(300, 20, 20, 1)\n",
      "[[[ 0.]\n",
      "  [ 0.]]\n",
      "\n",
      " [[ 0.]\n",
      "  [ 0.]]]\n"
     ]
    }
   ],
   "source": [
    "# Split data between training and test sets 700 : 300\n",
    "TEST_SIZE = 300\n",
    "TRAINING_SIZE = m_samples - TEST_SIZE\n",
    "\n",
    "test_data  = train_data[:TEST_SIZE,:,:,:]\n",
    "train_data = train_data[TEST_SIZE:,:,:,:]\n",
    "\n",
    "test_labl  = train_labl[:TEST_SIZE,:,:,:]\n",
    "train_labl = train_labl[TEST_SIZE:,:,:,:]\n",
    "print(\"Dataset dimentions:\")\n",
    "print train_data.shape\n",
    "print train_labl.shape\n",
    "print test_data.shape\n",
    "print test_labl.shape\n",
    "diff_matr = train_data[1]-train_labl[1]\n",
    "print diff_matr[:2,:2,:]"
   ]
  },
  {
   "cell_type": "code",
   "execution_count": null,
   "metadata": {
    "collapsed": true
   },
   "outputs": [],
   "source": []
  }
 ],
 "metadata": {
  "kernelspec": {
   "display_name": "Python 2",
   "language": "python",
   "name": "python2"
  },
  "language_info": {
   "codemirror_mode": {
    "name": "ipython",
    "version": 2
   },
   "file_extension": ".py",
   "mimetype": "text/x-python",
   "name": "python",
   "nbconvert_exporter": "python",
   "pygments_lexer": "ipython2",
   "version": "2.7.9"
  }
 },
 "nbformat": 4,
 "nbformat_minor": 1
}
