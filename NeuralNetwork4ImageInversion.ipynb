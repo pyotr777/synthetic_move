{
 "cells": [
  {
   "cell_type": "markdown",
   "metadata": {},
   "source": [
    "# Create Neural Network for Image Inversion with numpy"
   ]
  },
  {
   "cell_type": "markdown",
   "metadata": {},
   "source": [
    "## I. Read training data"
   ]
  },
  {
   "cell_type": "code",
   "execution_count": 37,
   "metadata": {
    "collapsed": true
   },
   "outputs": [],
   "source": [
    "import numpy as np\n",
    "from PIL import Image\n",
    "from scipy import misc\n",
    "%matplotlib inline\n",
    "import matplotlib.pyplot as plt\n",
    "import os"
   ]
  },
  {
   "cell_type": "code",
   "execution_count": 18,
   "metadata": {
    "collapsed": true
   },
   "outputs": [],
   "source": [
    "# Convert PIL image to array normalised to 0 to 1 rage.\n",
    "max_color = 255.\n",
    "def image_2_array(filename):\n",
    "    pil_img=Image.open(filename)\n",
    "    pil_arr=np.array(pil_img)\n",
    "    pil_scaled_arr = (pil_arr / max_color)\n",
    "    return pil_img, pil_scaled_arr\n",
    "\n",
    "# Invert grayscale PIL image\n",
    "def invert_array(arr):\n",
    "    inverted_arr = 1 - arr\n",
    "    return inverted_arr\n",
    "    \n",
    "# Convert normalized array to PIL image\n",
    "def array_2_image(arr):\n",
    "    arr_scaled = (arr) * max_color\n",
    "    im = Image.fromarray(arr_scaled)\n",
    "    return im"
   ]
  },
  {
   "cell_type": "code",
   "execution_count": 22,
   "metadata": {
    "collapsed": false
   },
   "outputs": [
    {
     "name": "stdout",
     "output_type": "stream",
     "text": [
      "(400000,)\n",
      "(400000,)\n"
     ]
    }
   ],
   "source": [
    "# Read training images into array of shape (m_samples, imsize, imsize, 1)\n",
    "train_data_onedimension = np.array([])\n",
    "train_labl_onedimension = np.array([])\n",
    "DIR=\"imgset20x20x1000\"\n",
    "imsize=20\n",
    "orig_pattern = DIR + \"/origin*\"\n",
    "invr_pattern = DIR + \"/inverse*\"\n",
    "import glob\n",
    "for f in glob.glob(orig_pattern):\n",
    "    img,a = image_2_array(f)\n",
    "    train_data_onedimension = np.append(train_data_onedimension,a)\n",
    "for f in glob.glob(invr_pattern):\n",
    "    img,a = image_2_array(f)\n",
    "    train_labl_onedimension = np.append(train_labl_onedimension,a)\n",
    "\n",
    "print train_data_onedimension.shape\n",
    "print train_labl_onedimension.shape"
   ]
  },
  {
   "cell_type": "code",
   "execution_count": 26,
   "metadata": {
    "collapsed": false
   },
   "outputs": [
    {
     "name": "stdout",
     "output_type": "stream",
     "text": [
      "[[[[ 0.00392157]\n",
      "   [ 0.00392157]]\n",
      "\n",
      "  [[ 0.00392157]\n",
      "   [ 0.00392157]]]\n",
      "\n",
      "\n",
      " [[[ 0.63137255]\n",
      "   [ 0.63137255]]\n",
      "\n",
      "  [[ 0.63137255]\n",
      "   [ 0.00392157]]]]\n",
      "(1000, 20, 20, 1)\n"
     ]
    }
   ],
   "source": [
    "m_samples = train_data_onedimension.shape[0] / imsize / imsize\n",
    "train_data = train_data_onedimension.reshape(m_samples, imsize, imsize, 1)\n",
    "train_labl = train_labl_onedimension.reshape(m_samples, imsize, imsize, 1)\n",
    "print train_data[:2,:2,:2]\n",
    "print train_labl.shape\n"
   ]
  },
  {
   "cell_type": "code",
   "execution_count": 27,
   "metadata": {
    "collapsed": false
   },
   "outputs": [
    {
     "name": "stdout",
     "output_type": "stream",
     "text": [
      "Dataset dimensions:\n",
      "(700, 20, 20, 1)\n",
      "(700, 20, 20, 1)\n",
      "(300, 20, 20, 1)\n",
      "(300, 20, 20, 1)\n",
      "[[[ 0.41568627]\n",
      "  [ 0.41568627]]\n",
      "\n",
      " [[ 0.41568627]\n",
      "  [ 0.41568627]]]\n"
     ]
    }
   ],
   "source": [
    "# Split data between training and test sets 700 : 300\n",
    "TEST_SIZE = 300\n",
    "TRAINING_SIZE = m_samples - TEST_SIZE\n",
    "\n",
    "test_data  = train_data[:TEST_SIZE,:,:,:]\n",
    "train_data = train_data[TEST_SIZE:,:,:,:]\n",
    "\n",
    "test_labl  = train_labl[:TEST_SIZE,:,:,:]\n",
    "train_labl = train_labl[TEST_SIZE:,:,:,:]\n",
    "print(\"Dataset dimensions:\")\n",
    "print train_data.shape\n",
    "print train_labl.shape\n",
    "print test_data.shape\n",
    "print test_labl.shape\n",
    "diff_matr = train_data[1]-train_labl[1]\n",
    "print diff_matr[:2,:2,:]\n",
    "\n",
    "x = np.array(train_data.reshape(train_data.shape[0],imsize*imsize))\n",
    "y = np.array(train_labl.reshape(train_labl.shape[0],imsize*imsize))"
   ]
  },
  {
   "cell_type": "code",
   "execution_count": 28,
   "metadata": {
    "collapsed": false
   },
   "outputs": [],
   "source": [
    "class NN(object):\n",
    "    def __init__(self):\n",
    "        self.inputSize = imsize*imsize\n",
    "        self.outputSize = imsize*imsize\n",
    "        \n",
    "        self.W1 = np.random.random((self.inputSize, self.outputSize))\n",
    "        \n",
    "    def forward(self, X):\n",
    "        self.z2 = np.dot(X, self.W1)\n",
    "        self.h = self.sigmoid(self.z2)\n",
    "        return self.h\n",
    "    \n",
    "    def sigmoid(self, z):\n",
    "        return 1/(1 + np.exp(-z))"
   ]
  },
  {
   "cell_type": "code",
   "execution_count": 71,
   "metadata": {
    "collapsed": false
   },
   "outputs": [
    {
     "name": "stdout",
     "output_type": "stream",
     "text": [
      "(700, 400)\n"
     ]
    },
    {
     "data": {
      "image/png": "[encoded data removed]",
      "text/plain": [
       "<matplotlib.figure.Figure at 0x7f9cd0438c90>"
      ]
     },
     "metadata": {},
     "output_type": "display_data"
    }
   ],
   "source": [
    "nn = NN()\n",
    "print x.shape\n",
    "h = nn.forward(x)\n",
    "img_x= x[0].reshape(imsize,imsize)\n",
    "img_y= y[0].reshape(imsize,imsize)\n",
    "img_h= h[0].reshape(imsize,imsize)\n",
    "\n",
    "fig = plt.figure(figsize=(3,1))\n",
    "a=fig.add_subplot(1,3,1)\n",
    "a.set_axis_off()\n",
    "plt.imshow(img_x, cmap=plt.cm.Greys,  interpolation=\"nearest\")\n",
    "a=fig.add_subplot(1,3,2)\n",
    "a.set_axis_off()\n",
    "plt.imshow(img_h, cmap=plt.cm.Greys,  interpolation=\"nearest\")\n",
    "a=fig.add_subplot(1,3,3)\n",
    "a.set_axis_off()\n",
    "plt.imshow(img_y, cmap=plt.cm.Greys,  interpolation=\"nearest\")\n",
    "plt.show()"
   ]
  },
  {
   "cell_type": "markdown",
   "metadata": {
    "collapsed": true
   },
   "source": [
    "## II. Initialise weights"
   ]
  },
  {
   "cell_type": "code",
   "execution_count": 72,
   "metadata": {
    "collapsed": false
   },
   "outputs": [],
   "source": [
    "# layer sizes\n",
    "s = np.array([imsize*imsize, imsize*imsize])\n",
    "W = np.random.random((s[0], s[1]))"
   ]
  },
  {
   "cell_type": "code",
   "execution_count": 73,
   "metadata": {
    "collapsed": false
   },
   "outputs": [
    {
     "name": "stdout",
     "output_type": "stream",
     "text": [
      "(400, 400)\n",
      "[[ 0.1928801   0.87029738  0.38892222 ...,  0.06760657  0.48332546\n",
      "   0.94722123]\n",
      " [ 0.7483714   0.46491659  0.25608035 ...,  0.59975502  0.133519\n",
      "   0.65887235]\n",
      " [ 0.83701771  0.84845841  0.67469332 ...,  0.38857074  0.47186238\n",
      "   0.20112699]\n",
      " ..., \n",
      " [ 0.18833998  0.83116668  0.76790721 ...,  0.37893057  0.64990832\n",
      "   0.77142127]\n",
      " [ 0.56749121  0.16181551  0.23597125 ...,  0.36973964  0.64557338\n",
      "   0.29119569]\n",
      " [ 0.84682755  0.09314069  0.75699106 ...,  0.95976935  0.03262663\n",
      "   0.12376661]]\n"
     ]
    }
   ],
   "source": [
    "print W.shape\n",
    "print W"
   ]
  },
  {
   "cell_type": "markdown",
   "metadata": {},
   "source": [
    "## III. Cost function and hypothesis"
   ]
  },
  {
   "cell_type": "markdown",
   "metadata": {},
   "source": [
    "$J = \\frac{1}{2} \\sum\\limits_{i=1}^{imsize*imsize} (h_{i} - y_{i})^2 $\n",
    "\n",
    "$h = g(Wx)$"
   ]
  },
  {
   "cell_type": "code",
   "execution_count": 74,
   "metadata": {
    "collapsed": false
   },
   "outputs": [],
   "source": [
    "def loss(h, y):\n",
    "    J = sum((h - y)*(h - y)) / 2\n",
    "    return J\n",
    "\n",
    "def sigmoid(x):\n",
    "    return 1/(1 + np.exp(-x))\n",
    "\n",
    "def sigmoidPrime(z):\n",
    "    # Derivative of sigmoid function\n",
    "    return np.exp(-z)/((1+np.exp(-z))**2)\n",
    "\n",
    "def hypothesis(x, W):\n",
    "    y = sigmoid(np.dot(x, W))\n",
    "    return y"
   ]
  },
  {
   "cell_type": "code",
   "execution_count": 75,
   "metadata": {
    "collapsed": false
   },
   "outputs": [
    {
     "data": {
      "text/plain": [
       "<matplotlib.legend.Legend at 0x7f9cd04d4dd0>"
      ]
     },
     "execution_count": 75,
     "metadata": {},
     "output_type": "execute_result"
    },
    {
     "data": {
      "image/png": "[encoded data removed]",
      "text/plain": [
       "<matplotlib.figure.Figure at 0x7f9cd04a9f50>"
      ]
     },
     "metadata": {},
     "output_type": "display_data"
    }
   ],
   "source": [
    "test_v = np.arange(-5,5,0.1)\n",
    "plt.plot(test_v, sigmoid(test_v))\n",
    "plt.plot(test_v, sigmoidPrime(test_v))\n",
    "plt.grid(1)\n",
    "plt.legend([\"sigmoid\",\"sigmoid prime\"])"
   ]
  },
  {
   "cell_type": "markdown",
   "metadata": {},
   "source": [
    "## IV. Training"
   ]
  },
  {
   "cell_type": "code",
   "execution_count": 82,
   "metadata": {
    "collapsed": false
   },
   "outputs": [
    {
     "name": "stdout",
     "output_type": "stream",
     "text": [
      "125232.168772\n"
     ]
    }
   ],
   "source": [
    "iterations = 1\n",
    "\n",
    "Dlt = np.zeros(s[0],s[1])\n",
    "for iter in xrange(iterations):\n",
    "    # Forward propagation\n",
    "    h = hypothesis(x, W)\n",
    "    J = loss(h, y)\n",
    "    print sum(J)\n",
    "    # Backward propagation\n",
    "    l1_delta = y - h\n",
    "    l0_delta = np.dot(l1_delta,W)* h * (1 - h)\n"
   ]
  },
  {
   "cell_type": "code",
   "execution_count": null,
   "metadata": {
    "collapsed": true
   },
   "outputs": [],
   "source": []
  },
  {
   "cell_type": "code",
   "execution_count": 18,
   "metadata": {
    "collapsed": false
   },
   "outputs": [],
   "source": [
    "# Test array operations\n",
    "a = np.array([[ 1., 2.], [2., 3.]])\n",
    "b = np.array([[ 2., 2.], [2., 2.]])"
   ]
  },
  {
   "cell_type": "code",
   "execution_count": 45,
   "metadata": {
    "collapsed": false
   },
   "outputs": [
    {
     "name": "stdout",
     "output_type": "stream",
     "text": [
      "[[ 2.  4.]\n",
      " [ 4.  6.]]\n",
      "..\n",
      "[[ 1.  4.]\n",
      " [ 4.  9.]]\n",
      "[  5.  13.]\n",
      "-----\n",
      "[ 1.  1.]\n"
     ]
    }
   ],
   "source": [
    "print(a*b)\n",
    "print \"..\"\n",
    "print(a*a)\n",
    "print(sum(a*a))\n",
    "print\"-----\"\n",
    "print(sum((b - a)*(b - a)))"
   ]
  },
  {
   "cell_type": "code",
   "execution_count": null,
   "metadata": {
    "collapsed": true
   },
   "outputs": [],
   "source": []
  }
 ],
 "metadata": {
  "kernelspec": {
   "display_name": "Python 2",
   "language": "python",
   "name": "python2"
  },
  "language_info": {
   "codemirror_mode": {
    "name": "ipython",
    "version": 2
   },
   "file_extension": ".py",
   "mimetype": "text/x-python",
   "name": "python",
   "nbconvert_exporter": "python",
   "pygments_lexer": "ipython2",
   "version": "2.7.9"
  }
 },
 "nbformat": 4,
 "nbformat_minor": 1
}
