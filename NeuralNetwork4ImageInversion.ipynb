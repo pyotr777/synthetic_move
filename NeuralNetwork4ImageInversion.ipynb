{
 "cells": [
  {
   "cell_type": "markdown",
   "metadata": {},
   "source": [
    "# Create Neural Network for Image Inversion with numpy"
   ]
  },
  {
   "cell_type": "markdown",
   "metadata": {},
   "source": [
    "## I. Read training data"
   ]
  },
  {
   "cell_type": "code",
   "execution_count": 2,
   "metadata": {
    "collapsed": true
   },
   "outputs": [],
   "source": [
    "import numpy as np\n",
    "from PIL import Image\n",
    "%matplotlib inline\n",
    "import matplotlib.pyplot as plt\n",
    "import os"
   ]
  },
  {
   "cell_type": "code",
   "execution_count": 3,
   "metadata": {
    "collapsed": true
   },
   "outputs": [],
   "source": [
    "# Convert PIL image to array normalised to 0 to 1 rage.\n",
    "max_color = 255\n",
    "def image_2_array(filename):\n",
    "    pil_img=Image.open(filename)\n",
    "    pil_arr=np.array(pil_img)\n",
    "    pil_scaled_arr = (pil_arr / max_color)\n",
    "    return pil_img, pil_scaled_arr\n",
    "\n",
    "# Invert grayscale PIL image\n",
    "def invert_array(arr):\n",
    "    inverted_arr = 1 - arr\n",
    "    return inverted_arr\n",
    "    \n",
    "# Convert normalized array to PIL image\n",
    "def array_2_image(arr):\n",
    "    arr_scaled = (arr) * max_color\n",
    "    im = Image.fromarray(arr_scaled)\n",
    "    return im"
   ]
  },
  {
   "cell_type": "code",
   "execution_count": 4,
   "metadata": {
    "collapsed": false
   },
   "outputs": [
    {
     "name": "stdout",
     "output_type": "stream",
     "text": [
      "(400000,)\n",
      "(400000,)\n"
     ]
    }
   ],
   "source": [
    "# Read training images into array of shape (m_samples, imsize, imsize, 1)\n",
    "train_data_onedimension = np.array([])\n",
    "train_labl_onedimension = np.array([])\n",
    "DIR=\"imgset20x20x1000\"\n",
    "imsize=20\n",
    "orig_pattern = DIR + \"/origin*\"\n",
    "invr_pattern = DIR + \"/inverse*\"\n",
    "import glob\n",
    "for f in glob.glob(orig_pattern):\n",
    "    img,a = image_2_array(f)\n",
    "    train_data_onedimension = np.append(train_data_onedimension,a)\n",
    "for f in glob.glob(invr_pattern):\n",
    "    img,a = image_2_array(f)\n",
    "    train_labl_onedimension = np.append(train_labl_onedimension,a)\n",
    "\n",
    "print train_data_onedimension.shape\n",
    "print train_labl_onedimension.shape"
   ]
  },
  {
   "cell_type": "code",
   "execution_count": 5,
   "metadata": {
    "collapsed": false
   },
   "outputs": [
    {
     "name": "stdout",
     "output_type": "stream",
     "text": [
      "(1000, 20, 20, 1)\n",
      "(1000, 20, 20, 1)\n"
     ]
    }
   ],
   "source": [
    "m_samples = train_data_onedimension.shape[0] / imsize / imsize\n",
    "train_data = train_data_onedimension.reshape(m_samples, imsize, imsize, 1)\n",
    "train_labl = train_labl_onedimension.reshape(m_samples, imsize, imsize, 1)\n",
    "print train_data.shape\n",
    "print train_labl.shape\n"
   ]
  },
  {
   "cell_type": "code",
   "execution_count": 6,
   "metadata": {
    "collapsed": false
   },
   "outputs": [
    {
     "name": "stdout",
     "output_type": "stream",
     "text": [
      "Dataset dimensions:\n",
      "(700, 20, 20, 1)\n",
      "(700, 20, 20, 1)\n",
      "(300, 20, 20, 1)\n",
      "(300, 20, 20, 1)\n",
      "[[[ 0.]\n",
      "  [ 0.]]\n",
      "\n",
      " [[ 0.]\n",
      "  [ 0.]]]\n"
     ]
    }
   ],
   "source": [
    "# Split data between training and test sets 700 : 300\n",
    "TEST_SIZE = 300\n",
    "TRAINING_SIZE = m_samples - TEST_SIZE\n",
    "\n",
    "test_data  = train_data[:TEST_SIZE,:,:,:]\n",
    "train_data = train_data[TEST_SIZE:,:,:,:]\n",
    "\n",
    "test_labl  = train_labl[:TEST_SIZE,:,:,:]\n",
    "train_labl = train_labl[TEST_SIZE:,:,:,:]\n",
    "print(\"Dataset dimensions:\")\n",
    "print train_data.shape\n",
    "print train_labl.shape\n",
    "print test_data.shape\n",
    "print test_labl.shape\n",
    "diff_matr = train_data[1]-train_labl[1]\n",
    "print diff_matr[:2,:2,:]"
   ]
  },
  {
   "cell_type": "markdown",
   "metadata": {
    "collapsed": true
   },
   "source": [
    "## II. Initialise weights"
   ]
  },
  {
   "cell_type": "code",
   "execution_count": 53,
   "metadata": {
    "collapsed": false
   },
   "outputs": [],
   "source": [
    "# layer sizes\n",
    "s = np.array([imsize*imsize, imsize*imsize])\n",
    "W = np.random.random((s[0], s[1]))"
   ]
  },
  {
   "cell_type": "code",
   "execution_count": 54,
   "metadata": {
    "collapsed": false
   },
   "outputs": [
    {
     "name": "stdout",
     "output_type": "stream",
     "text": [
      "(400, 400)\n",
      "[[ 0.75426934  0.8940074   0.93419127 ...,  0.70054067  0.37729373\n",
      "   0.54581379]\n",
      " [ 0.00557844  0.62377065  0.94055771 ...,  0.05683272  0.43310855\n",
      "   0.44195954]\n",
      " [ 0.79952494  0.37228256  0.58126998 ...,  0.6488431   0.2360349\n",
      "   0.37852085]\n",
      " ..., \n",
      " [ 0.17615692  0.29341372  0.11020371 ...,  0.42576221  0.29389477\n",
      "   0.84066644]\n",
      " [ 0.69710923  0.55459072  0.36785511 ...,  0.46996209  0.24499483\n",
      "   0.07216449]\n",
      " [ 0.42183989  0.41787727  0.69709838 ...,  0.65477391  0.01687452\n",
      "   0.34774023]]\n"
     ]
    }
   ],
   "source": [
    "print W.shape\n",
    "print W"
   ]
  },
  {
   "cell_type": "markdown",
   "metadata": {},
   "source": [
    "## III. Cost function and hypothesis"
   ]
  },
  {
   "cell_type": "markdown",
   "metadata": {},
   "source": [
    "$J = \\frac{1}{2m} \\sum\\limits_{i=1}^{m}\\sum\\limits_{k=1}^{imsize*imsize} (h_{i_k} - y_{i_k})^2 + \\frac{\\lambda}{2m} \\sum\\limits_{j=1}^{imsize*imsize} \\sum\\limits_{k=1}^{imsize*imsize}(W_{jk})^2$\n",
    "\n",
    "$h = g(Wx)$"
   ]
  },
  {
   "cell_type": "code",
   "execution_count": 55,
   "metadata": {
    "collapsed": false
   },
   "outputs": [],
   "source": [
    "def loss(h, y, W, lambda_):\n",
    "    m = h.shape[0]  # Number of samples\n",
    "    J = sum(sum((h - y)*(h - y))) / (2 * m) \n",
    "    J = J + sum(sum (W * W)) * lambda_ / (2 * m)\n",
    "    return J\n",
    "\n",
    "def sigmoid(x):\n",
    "    return 1/(1 + np.exp(-x))\n",
    "\n",
    "def hypothesis(x, W):\n",
    "    y = sigmoid(np.dot(x, W))\n",
    "    return y"
   ]
  },
  {
   "cell_type": "markdown",
   "metadata": {},
   "source": [
    "## IV. Training"
   ]
  },
  {
   "cell_type": "code",
   "execution_count": 65,
   "metadata": {
    "collapsed": false
   },
   "outputs": [
    {
     "name": "stdout",
     "output_type": "stream",
     "text": [
      "(700, 400)\n",
      "50.0038159489\n",
      "delta\n",
      "(700, 400)\n",
      "(700, 400)\n"
     ]
    }
   ],
   "source": [
    "iterations = 1\n",
    "lambda_ = 0.0001\n",
    "x = np.array(train_data.reshape(train_data.shape[0],imsize*imsize))\n",
    "y = np.array(train_labl.reshape(train_labl.shape[0],imsize*imsize))\n",
    "print x.shape\n",
    "Dlt = np.zeros(s[0],s[1])\n",
    "for iter in xrange(iterations):\n",
    "    # Forward propagation\n",
    "    h = hypothesis(x, W)\n",
    "    J = loss(h, y, W, lambda_)\n",
    "    print J\n",
    "    # Backward propagation\n",
    "    print \"delta\"\n",
    "    l1_delta = y - h\n",
    "    l0_delta = np.dot(l1_delta,W)* h * (1 - h)\n",
    "    print l1_delta.shape\n",
    "    print l0_delta.shape\n",
    "    #Dlt = \n",
    "    # Update weights\n",
    "    #W = W + "
   ]
  },
  {
   "cell_type": "code",
   "execution_count": null,
   "metadata": {
    "collapsed": true
   },
   "outputs": [],
   "source": []
  },
  {
   "cell_type": "code",
   "execution_count": 18,
   "metadata": {
    "collapsed": false
   },
   "outputs": [],
   "source": [
    "# Test array operations\n",
    "a = np.array([[ 1., 2.], [2., 3.]])\n",
    "b = np.array([[ 2., 2.], [2., 2.]])"
   ]
  },
  {
   "cell_type": "code",
   "execution_count": 45,
   "metadata": {
    "collapsed": false
   },
   "outputs": [
    {
     "name": "stdout",
     "output_type": "stream",
     "text": [
      "[[ 2.  4.]\n",
      " [ 4.  6.]]\n",
      "..\n",
      "[[ 1.  4.]\n",
      " [ 4.  9.]]\n",
      "[  5.  13.]\n",
      "-----\n",
      "[ 1.  1.]\n"
     ]
    }
   ],
   "source": [
    "print(a*b)\n",
    "print \"..\"\n",
    "print(a*a)\n",
    "print(sum(a*a))\n",
    "print\"-----\"\n",
    "print(sum((b - a)*(b - a)))"
   ]
  },
  {
   "cell_type": "code",
   "execution_count": null,
   "metadata": {
    "collapsed": true
   },
   "outputs": [],
   "source": []
  }
 ],
 "metadata": {
  "kernelspec": {
   "display_name": "Python 2",
   "language": "python",
   "name": "python2"
  },
  "language_info": {
   "codemirror_mode": {
    "name": "ipython",
    "version": 2
   },
   "file_extension": ".py",
   "mimetype": "text/x-python",
   "name": "python",
   "nbconvert_exporter": "python",
   "pygments_lexer": "ipython2",
   "version": "2.7.9"
  }
 },
 "nbformat": 4,
 "nbformat_minor": 1
}
