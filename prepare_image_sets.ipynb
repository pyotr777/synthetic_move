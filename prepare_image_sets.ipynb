{
 "cells": [
  {
   "cell_type": "markdown",
   "metadata": {
    "collapsed": true
   },
   "source": [
    "# Prepare training and testing sets of images"
   ]
  },
  {
   "cell_type": "markdown",
   "metadata": {},
   "source": [
    "## 1. Image inversion set 20x20"
   ]
  },
  {
   "cell_type": "code",
   "execution_count": 60,
   "metadata": {
    "collapsed": false
   },
   "outputs": [],
   "source": [
    "import matplotlib\n",
    "%matplotlib inline\n",
    "\n",
    "from scipy import misc\n",
    "import numpy as np\n",
    "import matplotlib.pyplot as plt\n",
    "from random import randint\n",
    "import math"
   ]
  },
  {
   "cell_type": "code",
   "execution_count": 69,
   "metadata": {
    "collapsed": false
   },
   "outputs": [],
   "source": [
    "IMSIZE=20\n",
    "\n",
    "# Invert grayscale PIL image\n",
    "def invert_array(arr):\n",
    "    inverted_arr = 1 - arr\n",
    "    return inverted_arr\n",
    "\n",
    "def generate_matrixes():\n",
    "    src_matrix = np.random.rand(IMSIZE,IMSIZE)\n",
    "    # Generate mixed matrix\n",
    "    mixm = np.zeros((IMSIZE,IMSIZE))\n",
    "    #print mixm[:5,:5]\n",
    "    a1 = randint(0,math.ceil(IMSIZE-IMSIZE/2))\n",
    "    a2 = randint(a1+1,IMSIZE-1)\n",
    "    mixm[a1:a2,a1:a2] = src_matrix[a1:a2,a1:a2]\n",
    "    #print(str(a1) + \"x\" + str(a2))\n",
    "    invt = invert_array(mixm)\n",
    "    return mixm, invt"
   ]
  },
  {
   "cell_type": "markdown",
   "metadata": {},
   "source": [
    "### draw image"
   ]
  },
  {
   "cell_type": "code",
   "execution_count": 70,
   "metadata": {
    "collapsed": false
   },
   "outputs": [],
   "source": [
    "#plt.imshow(src_matrix, cmap=plt.cm.Greys) \n",
    "#plt.show()\n",
    "def plot_matrixes(m1, m2):\n",
    "    plt.figure(1)\n",
    "    plt.subplot(121)\n",
    "    plt.imshow(m1, cmap=plt.cm.Greys,interpolation='none')\n",
    "\n",
    "    plt.subplot(122)\n",
    "    plt.imshow(m2, cmap=plt.cm.Greys,interpolation='none')\n",
    "    plt.show()\n",
    "\n",
    "\n",
    "#DPI = 150\n",
    "#_, (ax1, ax2) = plt.subplots(1, 2, figsize=(IMSIZE/DPI,IMSIZE/DPI),  dpi=DPI)\n",
    "#ax1.imshow(src_matrix, cmap=plt.cm.Greys)\n",
    "#ax2.imshow(diag, cmap=plt.cm.Greys)"
   ]
  },
  {
   "cell_type": "code",
   "execution_count": 71,
   "metadata": {
    "collapsed": false,
    "scrolled": true
   },
   "outputs": [
    {
     "data": {
      "image/png": "[encoded data removed]",
      "text/plain": [
       "<matplotlib.figure.Figure at 0x7f47113d16d0>"
      ]
     },
     "metadata": {},
     "output_type": "display_data"
    },
    {
     "data": {
      "image/png": "[encoded data removed]",
      "text/plain": [
       "<matplotlib.figure.Figure at 0x7f47113d1c10>"
      ]
     },
     "metadata": {},
     "output_type": "display_data"
    }
   ],
   "source": [
    "for i in range(1,3):\n",
    "    a,b = generate_matrixes()\n",
    "    plot_matrixes(a,b)"
   ]
  },
  {
   "cell_type": "code",
   "execution_count": 72,
   "metadata": {
    "collapsed": true
   },
   "outputs": [],
   "source": [
    "from PIL import Image\n",
    "def array_2_image(arr):\n",
    "    MAX = 255\n",
    "    arr_scaled = (arr) * MAX\n",
    "    #arr_max = np.amax(arr_scaled)\n",
    "    #arr_min = np.amin(arr_scaled)\n",
    "    #print (\"Array Max/min:\"+ str(arr_max)+\"/\"+str(arr_min))\n",
    "    im = Image.fromarray(arr_scaled)\n",
    "    return im"
   ]
  },
  {
   "cell_type": "markdown",
   "metadata": {},
   "source": [
    "## Generate image set"
   ]
  },
  {
   "cell_type": "code",
   "execution_count": 74,
   "metadata": {
    "collapsed": false
   },
   "outputs": [],
   "source": [
    "import os\n",
    "from PIL import Image\n",
    "samples=1000\n",
    "DIR = \"imgset20x20x\"+str(samples)\n",
    "if not os.path.exists(DIR):\n",
    "    os.makedirs(DIR)\n",
    "for i in range(0,samples):\n",
    "    image_str = str(i+1).zfill(6)\n",
    "    a,b = generate_matrixes()\n",
    "    a_im = array_2_image(a)\n",
    "    b_im = array_2_image(b)\n",
    "    a_filename = DIR+\"/inverse_\"+image_str+\".gif\"\n",
    "    a_im.save(a_filename, \"GIF\")\n",
    "    b_filename = DIR+\"/origin_\"+image_str+\".gif\"\n",
    "    b_im.save(b_filename, \"GIF\")"
   ]
  },
  {
   "cell_type": "code",
   "execution_count": null,
   "metadata": {
    "collapsed": true
   },
   "outputs": [],
   "source": []
  }
 ],
 "metadata": {
  "kernelspec": {
   "display_name": "Python 2",
   "language": "python",
   "name": "python2"
  },
  "language_info": {
   "codemirror_mode": {
    "name": "ipython",
    "version": 2
   },
   "file_extension": ".py",
   "mimetype": "text/x-python",
   "name": "python",
   "nbconvert_exporter": "python",
   "pygments_lexer": "ipython2",
   "version": "2.7.9"
  }
 },
 "nbformat": 4,
 "nbformat_minor": 1
}
