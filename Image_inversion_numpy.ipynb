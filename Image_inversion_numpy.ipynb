{
 "cells": [
  {
   "cell_type": "markdown",
   "metadata": {},
   "source": [
    "# Image inversion with numpy"
   ]
  },
  {
   "cell_type": "markdown",
   "metadata": {},
   "source": [
    "## Read training data"
   ]
  },
  {
   "cell_type": "code",
   "execution_count": 1,
   "metadata": {
    "collapsed": false
   },
   "outputs": [
    {
     "name": "stderr",
     "output_type": "stream",
     "text": [
      "/usr/local/lib/python2.7/dist-packages/matplotlib/font_manager.py:273: UserWarning: Matplotlib is building the font cache using fc-list. This may take a moment.\n",
      "  warnings.warn('Matplotlib is building the font cache using fc-list. This may take a moment.')\n"
     ]
    }
   ],
   "source": [
    "import numpy as np\n",
    "from PIL import Image\n",
    "%matplotlib inline\n",
    "import matplotlib.pyplot as plt"
   ]
  },
  {
   "cell_type": "code",
   "execution_count": 2,
   "metadata": {
    "collapsed": true
   },
   "outputs": [],
   "source": [
    "# Convert PIL image to 200x200 array normalised to -0.5 to 0.5 rage.\n",
    "def image_2_array(filename):\n",
    "    # PIL image pil_img\n",
    "    pil_img=Image.open(filename)\n",
    "    pil_arr=np.array(pil_img)\n",
    "    pil_max = np.amax(np.absolute(pil_arr))\n",
    "    pil_min = np.amin(np.absolute(pil_arr))\n",
    "    #print (\"Max/min:\"+ str(pil_max)+\"/\"+str(pil_min))\n",
    "    if pil_max == 0:\n",
    "        print(\"Max is 0.\")\n",
    "        return pil_img,pil_arr\n",
    "    pil_scaled_arr = (pil_arr / pil_max) - 0.5\n",
    "    return pil_img,pil_scaled_arr\n",
    "\n",
    "# Invert normalised PIL image\n",
    "def invert_array(arr):\n",
    "    #print(arr.shape)\n",
    "    #print(arr[100][50:60])\n",
    "    inverted_arr = arr * (-1)\n",
    "    #print(inverted_arr[100][50:60])\n",
    "    return inverted_arr\n",
    "    \n",
    "# Convert normalized array to PIL image\n",
    "def array_2_image(arr):\n",
    "    MAX = 255\n",
    "    arr_scaled = (arr + 0.5) * MAX\n",
    "    arr_max = np.amax(arr_scaled)\n",
    "    arr_min = np.amin(arr_scaled)\n",
    "    #print (\"Array Max/min:\"+ str(arr_max)+\"/\"+str(arr_min))\n",
    "    im = Image.fromarray(arr_scaled)\n",
    "    return im"
   ]
  },
  {
   "cell_type": "markdown",
   "metadata": {},
   "source": [
    "# I. Image inversion"
   ]
  },
  {
   "cell_type": "code",
   "execution_count": 3,
   "metadata": {
    "collapsed": true
   },
   "outputs": [],
   "source": [
    "# Prepare inversed images\n",
    "plot = False\n",
    "save = False  # Only need to save once\n",
    "if save:\n",
    "    for dataset in range(1, 11):\n",
    "        for img_counter in range(1, 11):\n",
    "            # Read Image\n",
    "            dataset_str = str(dataset).zfill(3)\n",
    "            image_str = str(img_counter).zfill(4)\n",
    "            filename = \"/notebooks/data001/move\" + \\\n",
    "                    dataset_str+\"_\"+image_str+\".gif\"\n",
    "            #print filename\n",
    "            img,a = image_2_array(filename)\n",
    "            #print(\"Orgarr:\")\n",
    "            #print(a)\n",
    "\n",
    "\n",
    "            in_arr = invert_array(a)\n",
    "            #print(\"Invarr:\")\n",
    "            #print(in_arr)\n",
    "            new_im = array_2_image(in_arr)\n",
    "            new_filename = \"/notebooks/data001/move_inv_\" + \\\n",
    "                    dataset_str+\"_\"+image_str+\".gif\"\n",
    "            # Save new image to file\n",
    "            new_im.save(new_filename, \"GIF\")\n",
    "            # Plot\n",
    "            if (plot):\n",
    "                _, (ax1, ax2, ax3, ax4) = plt.subplots(1, 4)\n",
    "                ax1.imshow(img);\n",
    "                ax2.imshow(a, vmin=-0.5, vmax=0.5,cmap=plt.cm.Greys);\n",
    "                ax3.imshow(in_arr, cmap=plt.cm.Greys);\n",
    "                ax4.imshow(new_im);\n",
    "\n"
   ]
  },
  {
   "cell_type": "markdown",
   "metadata": {},
   "source": [
    "# Prepare training set"
   ]
  },
  {
   "cell_type": "code",
   "execution_count": 6,
   "metadata": {
    "collapsed": false
   },
   "outputs": [
    {
     "name": "stdout",
     "output_type": "stream",
     "text": [
      "Max is 0.\n",
      "Max is 0.\n",
      "Max is 0.\n",
      "Max is 0.\n",
      "Max is 0.\n",
      "Max is 0.\n",
      "Max is 0.\n",
      "Max is 0.\n",
      "(3200000,)\n",
      "(3200000,)\n",
      "80\n",
      "(80, 200, 200, 1)\n",
      "(80, 200, 200, 1)\n"
     ]
    }
   ],
   "source": [
    "# Read training images into array of shape (80, 200, 200, 1)\n",
    "IMSIZE=200\n",
    "train_data_onedimension = np.array([]) #np.empty([80,200,200,1])\n",
    "train_labl_onedimension = np.array([])\n",
    "for dataset in range(1, 9):\n",
    "    for img_counter in range(1, 11):\n",
    "        dataset_str = str(dataset).zfill(3)\n",
    "        image_str = str(img_counter).zfill(4)\n",
    "        filename = \"/notebooks/data001/move\" + \\\n",
    "                dataset_str+\"_\"+image_str+\".gif\"\n",
    "        #print filename\n",
    "        img,a = image_2_array(filename)\n",
    "        \n",
    "        train_data_onedimension = np.append(train_data_onedimension,a)\n",
    "        # Targets\n",
    "        filename = \"/notebooks/data001/move_inv_\" + \\\n",
    "                dataset_str+\"_\"+image_str+\".gif\"\n",
    "        #print filename\n",
    "        img,a = image_2_array(filename)\n",
    "        train_labl_onedimension = np.append(train_labl_onedimension,a)\n",
    "        \n",
    "        \n",
    "print train_data_onedimension.shape\n",
    "print train_labl_onedimension.shape\n",
    "\n",
    "images_in_set = train_data_onedimension.size / (IMSIZE*IMSIZE)\n",
    "print images_in_set\n",
    "train_data = train_data_onedimension.reshape(images_in_set, IMSIZE, IMSIZE, 1)\n",
    "print train_data.shape\n",
    "train_labl = train_labl_onedimension.reshape(images_in_set, IMSIZE, IMSIZE, 1)\n",
    "print train_labl.shape"
   ]
  },
  {
   "cell_type": "markdown",
   "metadata": {},
   "source": [
    "## Newral Network \n",
    "\n",
    "L – Number of layers = 3\n",
    "\n",
    "$s_j$ – кол-во элементов в слое j\n",
    "\n",
    "Кол-во элементов по слоям:\n",
    "$s_1$ = 40000\n",
    "$s_2$ = 40000\n",
    "$s_3$ = 40000\n",
    "\n"
   ]
  },
  {
   "cell_type": "code",
   "execution_count": 8,
   "metadata": {
    "collapsed": false
   },
   "outputs": [
    {
     "data": {
      "text/plain": [
       "array([ 40000.,  40000.,  40000.])"
      ]
     },
     "execution_count": 8,
     "metadata": {},
     "output_type": "execute_result"
    }
   ],
   "source": [
    "L = 3\n",
    "s = np.ones(L) * 40000\n",
    "s"
   ]
  },
  {
   "cell_type": "markdown",
   "metadata": {},
   "source": [
    "### 1. Random $\\Theta$ initialisation\n",
    "\n",
    "$\\epsilon=0.5$"
   ]
  },
  {
   "cell_type": "code",
   "execution_count": 17,
   "metadata": {
    "collapsed": false
   },
   "outputs": [
    {
     "name": "stdout",
     "output_type": "stream",
     "text": [
      "1\n",
      "()\n"
     ]
    },
    {
     "name": "stderr",
     "output_type": "stream",
     "text": [
      "/usr/local/lib/python2.7/dist-packages/ipykernel/__main__.py:6: VisibleDeprecationWarning: using a non-integer number instead of an integer will result in an error in the future\n"
     ]
    },
    {
     "ename": "ValueError",
     "evalue": "setting an array element with a sequence.",
     "output_type": "error",
     "traceback": [
      "\u001b[1;31m\u001b[0m",
      "\u001b[1;31mValueError\u001b[0mTraceback (most recent call last)",
      "\u001b[1;32m<ipython-input-17-982927c2a378>\u001b[0m in \u001b[0;36m<module>\u001b[1;34m()\u001b[0m\n\u001b[0;32m      4\u001b[0m     \u001b[1;32mprint\u001b[0m\u001b[1;33m(\u001b[0m\u001b[0mj\u001b[0m\u001b[1;33m)\u001b[0m\u001b[1;33m\u001b[0m\u001b[0m\n\u001b[0;32m      5\u001b[0m     \u001b[1;32mprint\u001b[0m\u001b[1;33m(\u001b[0m\u001b[0ms\u001b[0m\u001b[1;33m[\u001b[0m\u001b[0mj\u001b[0m\u001b[1;33m]\u001b[0m\u001b[1;33m.\u001b[0m\u001b[0mshape\u001b[0m\u001b[1;33m)\u001b[0m\u001b[1;33m\u001b[0m\u001b[0m\n\u001b[1;32m----> 6\u001b[1;33m     \u001b[0mTheta\u001b[0m\u001b[1;33m[\u001b[0m\u001b[0mj\u001b[0m\u001b[1;33m]\u001b[0m \u001b[1;33m=\u001b[0m \u001b[0mnp\u001b[0m\u001b[1;33m.\u001b[0m\u001b[0mrandom\u001b[0m\u001b[1;33m.\u001b[0m\u001b[0mrand\u001b[0m\u001b[1;33m(\u001b[0m\u001b[0ms\u001b[0m\u001b[1;33m[\u001b[0m\u001b[0mj\u001b[0m\u001b[1;33m+\u001b[0m\u001b[1;36m1\u001b[0m\u001b[1;33m]\u001b[0m\u001b[1;33m,\u001b[0m\u001b[0ms\u001b[0m\u001b[1;33m[\u001b[0m\u001b[0mj\u001b[0m\u001b[1;33m]\u001b[0m\u001b[1;33m+\u001b[0m\u001b[1;36m1\u001b[0m\u001b[1;33m)\u001b[0m \u001b[1;33m*\u001b[0m \u001b[1;33m(\u001b[0m\u001b[1;36m2\u001b[0m\u001b[1;33m*\u001b[0m\u001b[0mINIT_EPSILON\u001b[0m\u001b[1;33m)\u001b[0m \u001b[1;33m-\u001b[0m \u001b[0mINIT_EPSILON\u001b[0m\u001b[1;33m\u001b[0m\u001b[0m\n\u001b[0m\u001b[0;32m      7\u001b[0m \u001b[1;32mprint\u001b[0m\u001b[1;33m(\u001b[0m\u001b[0mTheta\u001b[0m\u001b[1;33m)\u001b[0m\u001b[1;33m\u001b[0m\u001b[0m\n",
      "\u001b[1;31mValueError\u001b[0m: setting an array element with a sequence."
     ]
    }
   ],
   "source": [
    "INIT_EPSILON=0.5\n",
    "\n",
    "for j in range(1,L):\n",
    "    print(j)\n",
    "    print(s[j].shape)\n",
    "    Theta[j] = np.random.rand(s[j+1],s[j]+1) * (2*INIT_EPSILON) - INIT_EPSILON\n",
    "print(Theta)"
   ]
  },
  {
   "cell_type": "code",
   "execution_count": null,
   "metadata": {
    "collapsed": true
   },
   "outputs": [],
   "source": []
  }
 ],
 "metadata": {
  "kernelspec": {
   "display_name": "Python 2",
   "language": "python",
   "name": "python2"
  },
  "language_info": {
   "codemirror_mode": {
    "name": "ipython",
    "version": 2
   },
   "file_extension": ".py",
   "mimetype": "text/x-python",
   "name": "python",
   "nbconvert_exporter": "python",
   "pygments_lexer": "ipython2",
   "version": "2.7.6"
  }
 },
 "nbformat": 4,
 "nbformat_minor": 1
}
