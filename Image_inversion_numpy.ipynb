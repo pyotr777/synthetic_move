{
 "cells": [
  {
   "cell_type": "markdown",
   "metadata": {},
   "source": [
    "# Image inversion with numpy"
   ]
  },
  {
   "cell_type": "markdown",
   "metadata": {},
   "source": [
    "## Read training data"
   ]
  },
  {
   "cell_type": "code",
   "execution_count": 3,
   "metadata": {
    "collapsed": false
   },
   "outputs": [],
   "source": [
    "import numpy as np\n",
    "from PIL import Image\n",
    "%matplotlib inline\n",
    "import matplotlib.pyplot as plt"
   ]
  },
  {
   "cell_type": "code",
   "execution_count": 4,
   "metadata": {
    "collapsed": true
   },
   "outputs": [],
   "source": [
    "# Convert PIL image to 200x200 array normalised to -0.5 to 0.5 rage.\n",
    "def image_2_array(filename):\n",
    "    # PIL image pil_img\n",
    "    pil_img=Image.open(filename)\n",
    "    pil_arr=np.array(pil_img)\n",
    "    pil_max = np.amax(np.absolute(pil_arr))\n",
    "    pil_min = np.amin(np.absolute(pil_arr))\n",
    "    #print (\"Max/min:\"+ str(pil_max)+\"/\"+str(pil_min))\n",
    "    if pil_max == 0:\n",
    "        return pil_img,pil_arr\n",
    "    pil_scaled_arr = (pil_arr / pil_max) - 0.5\n",
    "    return pil_img, pil_scaled_arr\n",
    "\n",
    "# Invert normalised PIL image\n",
    "def invert_array(arr):\n",
    "    #print(arr.shape)\n",
    "    #print(arr[100][50:60])\n",
    "    inverted_arr = arr * (-1)\n",
    "    #print(inverted_arr[100][50:60])\n",
    "    return inverted_arr\n",
    "    \n",
    "# Convert normalized array to PIL image\n",
    "def array_2_image(arr):\n",
    "    MAX = 255\n",
    "    arr_scaled = (arr + 0.5) * MAX\n",
    "    arr_max = np.amax(arr_scaled)\n",
    "    arr_min = np.amin(arr_scaled)\n",
    "    #print (\"Array Max/min:\"+ str(arr_max)+\"/\"+str(arr_min))\n",
    "    im = Image.fromarray(arr_scaled)\n",
    "    return im"
   ]
  },
  {
   "cell_type": "markdown",
   "metadata": {},
   "source": [
    "# I. Image inversion"
   ]
  },
  {
   "cell_type": "code",
   "execution_count": 5,
   "metadata": {
    "collapsed": true
   },
   "outputs": [],
   "source": [
    "# Prepare inversed images\n",
    "plot = False\n",
    "save = False  # Only need to save once\n",
    "if save:\n",
    "    for dataset in range(1, 11):\n",
    "        for img_counter in range(1, 11):\n",
    "            # Read Image\n",
    "            dataset_str = str(dataset).zfill(3)\n",
    "            image_str = str(img_counter).zfill(4)\n",
    "            filename = \"/notebooks/data001/move\" + \\\n",
    "                    dataset_str+\"_\"+image_str+\".gif\"\n",
    "            #print filename\n",
    "            img,a = image_2_array(filename)\n",
    "            #print(\"Orgarr:\")\n",
    "            #print(a)\n",
    "\n",
    "\n",
    "            in_arr = invert_array(a)\n",
    "            #print(\"Invarr:\")\n",
    "            #print(in_arr)\n",
    "            new_im = array_2_image(in_arr)\n",
    "            new_filename = \"/notebooks/data001/move_inv_\" + \\\n",
    "                    dataset_str+\"_\"+image_str+\".gif\"\n",
    "            # Save new image to file\n",
    "            new_im.save(new_filename, \"GIF\")\n",
    "            # Plot\n",
    "            if (plot):\n",
    "                _, (ax1, ax2, ax3, ax4) = plt.subplots(1, 4)\n",
    "                ax1.imshow(img);\n",
    "                ax2.imshow(a, vmin=-0.5, vmax=0.5,cmap=plt.cm.Greys);\n",
    "                ax3.imshow(in_arr, cmap=plt.cm.Greys);\n",
    "                ax4.imshow(new_im);\n",
    "\n"
   ]
  },
  {
   "cell_type": "markdown",
   "metadata": {},
   "source": [
    "# Prepare training set\n",
    "\n",
    "train_data_onedimension получается из:\n",
    "\n",
    "1 картинка 200x200 px = 40 000<br>\n",
    "8 наборов (range) по 10 картинок (img_counter) = 80<br>\n",
    "Итого: 40 000 * 80 = 3 200 000"
   ]
  },
  {
   "cell_type": "code",
   "execution_count": 6,
   "metadata": {
    "collapsed": false
   },
   "outputs": [
    {
     "name": "stdout",
     "output_type": "stream",
     "text": [
      "(3200000,)\n",
      "(3200000,)\n",
      "80\n",
      "(80, 200, 200, 1)\n",
      "(80, 200, 200, 1)\n"
     ]
    }
   ],
   "source": [
    "# Read training images into array of shape (80, 200, 200, 1)\n",
    "IMSIZE=200\n",
    "train_data_onedimension = np.array([]) #np.empty([80,200,200,1])\n",
    "train_labl_onedimension = np.array([])\n",
    "for dataset in range(1, 9):\n",
    "    for img_counter in range(1, 11):\n",
    "        dataset_str = str(dataset).zfill(3)\n",
    "        image_str = str(img_counter).zfill(4)\n",
    "        # Samples\n",
    "        filename = \"data001/move\" + \\\n",
    "                dataset_str+\"_\"+image_str+\".gif\"\n",
    "        #print filename\n",
    "        img, a = image_2_array(filename)\n",
    "        \n",
    "        train_data_onedimension = np.append(train_data_onedimension, a)\n",
    "        # Targets (labels)\n",
    "        filename = \"data001/move_inv_\" + \\\n",
    "                dataset_str+\"_\"+image_str+\".gif\"\n",
    "        #print filename\n",
    "        img,a = image_2_array(filename)\n",
    "        train_labl_onedimension = np.append(train_labl_onedimension, a)\n",
    "        \n",
    "        \n",
    "print train_data_onedimension.shape\n",
    "print train_labl_onedimension.shape\n",
    "\n",
    "images_in_set = train_data_onedimension.size / (IMSIZE*IMSIZE)\n",
    "print images_in_set\n",
    "train_data = train_data_onedimension.reshape(images_in_set, IMSIZE, IMSIZE, 1)\n",
    "print train_data.shape\n",
    "train_labl = train_labl_onedimension.reshape(images_in_set, IMSIZE, IMSIZE, 1)\n",
    "print train_labl.shape"
   ]
  },
  {
   "cell_type": "markdown",
   "metadata": {},
   "source": [
    "## Newral Network \n",
    "\n",
    "L – Number of layers = 3\n",
    "\n",
    "$s_j$ – кол-во элементов в слое j\n",
    "\n",
    "Кол-во элементов по слоям:\n",
    "$s_1$ = 40000\n",
    "$s_2$ = 40000\n",
    "$s_3$ = 40000\n",
    "\n"
   ]
  },
  {
   "cell_type": "code",
   "execution_count": 7,
   "metadata": {
    "collapsed": false
   },
   "outputs": [
    {
     "data": {
      "text/plain": [
       "array([40000, 40000, 40000])"
      ]
     },
     "execution_count": 7,
     "metadata": {},
     "output_type": "execute_result"
    }
   ],
   "source": [
    "L = 3\n",
    "s = np.ones(L, dtype=np.int) * IMSIZE*IMSIZE\n",
    "s"
   ]
  },
  {
   "cell_type": "markdown",
   "metadata": {},
   "source": [
    "### 1. Random $\\Theta$ initialisation\n",
    "\n",
    "$\\epsilon=0.5$"
   ]
  },
  {
   "cell_type": "code",
   "execution_count": 11,
   "metadata": {
    "collapsed": true
   },
   "outputs": [],
   "source": [
    "import pandas as pd"
   ]
  },
  {
   "cell_type": "code",
   "execution_count": 10,
   "metadata": {
    "collapsed": false
   },
   "outputs": [
    {
     "name": "stdout",
     "output_type": "stream",
     "text": [
      "1 40000 1600040000\n"
     ]
    },
    {
     "ename": "MemoryError",
     "evalue": "",
     "output_type": "error",
     "traceback": [
      "\u001b[0;31m---------------------------------------------------------------------------\u001b[0m",
      "\u001b[0;31mMemoryError\u001b[0m                               Traceback (most recent call last)",
      "\u001b[0;32m<ipython-input-10-0922143de7a2>\u001b[0m in \u001b[0;36m<module>\u001b[0;34m()\u001b[0m\n\u001b[1;32m      3\u001b[0m \u001b[0;32mfor\u001b[0m \u001b[0mj\u001b[0m \u001b[0;32min\u001b[0m \u001b[0mrange\u001b[0m\u001b[0;34m(\u001b[0m\u001b[0;36m1\u001b[0m\u001b[0;34m,\u001b[0m\u001b[0mL\u001b[0m\u001b[0;34m)\u001b[0m\u001b[0;34m:\u001b[0m\u001b[0;34m\u001b[0m\u001b[0m\n\u001b[1;32m      4\u001b[0m     \u001b[0;32mprint\u001b[0m \u001b[0mj\u001b[0m\u001b[0;34m,\u001b[0m \u001b[0ms\u001b[0m\u001b[0;34m[\u001b[0m\u001b[0mj\u001b[0m\u001b[0;34m-\u001b[0m\u001b[0;36m1\u001b[0m\u001b[0;34m]\u001b[0m\u001b[0;34m,\u001b[0m \u001b[0ms\u001b[0m\u001b[0;34m[\u001b[0m\u001b[0mj\u001b[0m\u001b[0;34m]\u001b[0m\u001b[0;34m*\u001b[0m\u001b[0;34m(\u001b[0m\u001b[0ms\u001b[0m\u001b[0;34m[\u001b[0m\u001b[0mj\u001b[0m\u001b[0;34m-\u001b[0m\u001b[0;36m1\u001b[0m\u001b[0;34m]\u001b[0m\u001b[0;34m+\u001b[0m\u001b[0;36m1\u001b[0m\u001b[0;34m)\u001b[0m\u001b[0;34m\u001b[0m\u001b[0m\n\u001b[0;32m----> 5\u001b[0;31m     \u001b[0mtheta\u001b[0m \u001b[0;34m=\u001b[0m \u001b[0mnp\u001b[0m\u001b[0;34m.\u001b[0m\u001b[0mzeros\u001b[0m\u001b[0;34m(\u001b[0m\u001b[0;34m(\u001b[0m\u001b[0ms\u001b[0m\u001b[0;34m[\u001b[0m\u001b[0mj\u001b[0m\u001b[0;34m]\u001b[0m\u001b[0;34m,\u001b[0m\u001b[0ms\u001b[0m\u001b[0;34m[\u001b[0m\u001b[0mj\u001b[0m\u001b[0;34m-\u001b[0m\u001b[0;36m1\u001b[0m\u001b[0;34m]\u001b[0m\u001b[0;34m+\u001b[0m\u001b[0;36m1\u001b[0m\u001b[0;34m)\u001b[0m\u001b[0;34m,\u001b[0m \u001b[0mdtype\u001b[0m \u001b[0;34m=\u001b[0m \u001b[0mnp\u001b[0m\u001b[0;34m.\u001b[0m\u001b[0mfloat16\u001b[0m\u001b[0;34m)\u001b[0m\u001b[0;34m\u001b[0m\u001b[0m\n\u001b[0m\u001b[1;32m      6\u001b[0m     \u001b[0mtheta\u001b[0m\u001b[0;34m[\u001b[0m\u001b[0;34m:\u001b[0m\u001b[0;34m]\u001b[0m \u001b[0;34m=\u001b[0m \u001b[0mnp\u001b[0m\u001b[0;34m.\u001b[0m\u001b[0mrandom\u001b[0m\u001b[0;34m.\u001b[0m\u001b[0mrand\u001b[0m\u001b[0;34m(\u001b[0m\u001b[0mtheta\u001b[0m\u001b[0;34m.\u001b[0m\u001b[0mshape\u001b[0m\u001b[0;34m)\u001b[0m \u001b[0;34m*\u001b[0m \u001b[0;34m(\u001b[0m\u001b[0;36m2\u001b[0m\u001b[0;34m*\u001b[0m\u001b[0mINIT_EPSILON\u001b[0m\u001b[0;34m)\u001b[0m \u001b[0;34m-\u001b[0m \u001b[0mINIT_EPSILON\u001b[0m\u001b[0;34m\u001b[0m\u001b[0m\n\u001b[1;32m      7\u001b[0m     \u001b[0mTheta\u001b[0m\u001b[0;34m.\u001b[0m\u001b[0mappend\u001b[0m\u001b[0;34m(\u001b[0m\u001b[0mtheta\u001b[0m\u001b[0;34m)\u001b[0m\u001b[0;34m\u001b[0m\u001b[0m\n",
      "\u001b[0;31mMemoryError\u001b[0m: "
     ]
    }
   ],
   "source": [
    "INIT_EPSILON=0.5\n",
    "Theta = []\n",
    "for j in range(1,L):\n",
    "    print j, s[j-1], s[j]*(s[j-1]+1)\n",
    "    theta = np.zeros((s[j],s[j-1]+1), dtype = np.float16)\n",
    "    theta[:] = np.random.rand(theta.shape) * (2*INIT_EPSILON) - INIT_EPSILON\n",
    "    Theta.append(theta) \n",
    "print Theta.shape"
   ]
  },
  {
   "cell_type": "markdown",
   "metadata": {},
   "source": [
    "```\n",
    "1\n",
    "40000\n",
    "---------------------------------------------------------------------------\n",
    "MemoryError                               Traceback (most recent call last)\n",
    "<ipython-input-12-8f1caaf32a38> in <module>()\n",
    "      4     print(j)\n",
    "      5     print(s[j-1])\n",
    "----> 6     theta = np.random.rand(s[j],s[j-1]+1) * (2*INIT_EPSILON) - INIT_EPSILON\n",
    "      7     Theta.append(theta)\n",
    "      8 print Theta.shape\n",
    "\n",
    "mtrand.pyx in mtrand.RandomState.rand (numpy/random/mtrand/mtrand.c:17649)()\n",
    "\n",
    "mtrand.pyx in mtrand.RandomState.random_sample (numpy/random/mtrand/mtrand.c:13944)()\n",
    "\n",
    "mtrand.pyx in mtrand.cont0_array (numpy/random/mtrand/mtrand.c:2204)()\n",
    "\n",
    "MemoryError: \n",
    "```"
   ]
  },
  {
   "cell_type": "markdown",
   "metadata": {
    "collapsed": true
   },
   "source": [
    "_Note: Access $\\Theta_1$ as `Theta[0]`, $\\Theta_2$ as `Theta[1]`._\n"
   ]
  },
  {
   "cell_type": "markdown",
   "metadata": {},
   "source": [
    "For regularisation use matrix $\\Theta$ without first (bias) column. Name it $\\hat{\\Theta}$. Store it in list of arrays `Theta_r`."
   ]
  },
  {
   "cell_type": "markdown",
   "metadata": {},
   "source": [
    "### 2. Forward propagation"
   ]
  },
  {
   "cell_type": "code",
   "execution_count": null,
   "metadata": {
    "collapsed": true
   },
   "outputs": [],
   "source": []
  },
  {
   "cell_type": "markdown",
   "metadata": {},
   "source": [
    "### 3. Cost function\n",
    "\n",
    "$$J(\\Theta) = \\frac{1}{2m} \\sum_{i=1}^{m}\\sum_{k=1}^{K}(h_\\Theta(x^i)_k - y^i_k)^2 + \\frac{\\lambda}{2m}\\sum_{l=1}^{L-1}\\sum_{o=1}^{s_l}\\sum_{p=1}^{s_{l+1}}(\\hat{\\Theta}_{p,o}^l)^2 $$\n",
    "\n",
    "$\\hat{\\Theta}$ - Theta_r - $\\Theta$ without first column.\n",
    "\n",
    "In code below:\n",
    "\n",
    "$\\lambda = lmbd$,\n",
    "\n",
    "$h_{\\Theta} = H$"
   ]
  },
  {
   "cell_type": "code",
   "execution_count": 14,
   "metadata": {
    "collapsed": false
   },
   "outputs": [],
   "source": [
    "# Return cost and gradient for given Theta.\n",
    "# Parameters:\n",
    "# Theta – weights,\n",
    "# L – number of layers in NN,\n",
    "# s – number of elements in each layer,\n",
    "# H – hypothesis data,\n",
    "# Y – target data,\n",
    "# lmbd – regularisation parameter lambda.\n",
    "def costFunction(Theta, L, s, H, Y, lmbd):\n",
    "    # Initialisation. Need to return the following variables:\n",
    "    J = 0;\n",
    "    Theta_grad = []\n",
    "    for j in range(1,L):\n",
    "        Theta_grad.append(np.zeros(size(Theta[j-1])))\n",
    "                          \n",
    "    # Remove first column from Theta1\n",
    "    Theta_r = []\n",
    "    for j in range(1,L):\n",
    "        theta_reduced = Theta[j-1][:, 1:]\n",
    "        Theta_r.append(theta_reduced)\n",
    "        print(Theta_r[j-1].shape)\n",
    "        \n",
    "    # SUM for J\n",
    "\n"
   ]
  },
  {
   "cell_type": "markdown",
   "metadata": {},
   "source": []
  },
  {
   "cell_type": "code",
   "execution_count": 11,
   "metadata": {
    "collapsed": false
   },
   "outputs": [
    {
     "data": {
      "text/plain": [
       "21"
      ]
     },
     "execution_count": 11,
     "metadata": {},
     "output_type": "execute_result"
    }
   ],
   "source": [
    "x = np.array([[[1],[2],[3]], [[4],[5],[6]]])\n",
    "x.shape\n",
    "x[:,0:2]\n",
    "x.sum()"
   ]
  },
  {
   "cell_type": "code",
   "execution_count": null,
   "metadata": {
    "collapsed": true
   },
   "outputs": [],
   "source": []
  }
 ],
 "metadata": {
  "kernelspec": {
   "display_name": "Python 2",
   "language": "python",
   "name": "python2"
  },
  "language_info": {
   "codemirror_mode": {
    "name": "ipython",
    "version": 2
   },
   "file_extension": ".py",
   "mimetype": "text/x-python",
   "name": "python",
   "nbconvert_exporter": "python",
   "pygments_lexer": "ipython2",
   "version": "2.7.9"
  }
 },
 "nbformat": 4,
 "nbformat_minor": 1
}
