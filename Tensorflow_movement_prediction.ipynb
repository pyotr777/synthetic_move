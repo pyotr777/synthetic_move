{
 "cells": [
  {
   "cell_type": "markdown",
   "metadata": {},
   "source": [
    "# Movement prediction with Tensorflow\n",
    "## Read training data"
   ]
  },
  {
   "cell_type": "code",
   "execution_count": 6,
   "metadata": {
    "collapsed": true
   },
   "outputs": [],
   "source": [
    "import numpy as np\n",
    "from PIL import Image\n",
    "# Convert PIL image to 200x200 array normalised to -0.5 to 0.5 rage.\n",
    "def image_2_array(img):\n",
    "    # PIL image pil_img\n",
    "    pil_img=Image.open(filename)\n",
    "    pil_arr=np.array(pil_img)\n",
    "    pil_max = np.amax(pil_arr)\n",
    "    pil_min = np.amin(pil_arr)\n",
    "    pil_scaled_arr = (pil_arr - pil_min) / (pil_max - pil_min) - 0.5\n",
    "    return pil_scaled_arr"
   ]
  },
  {
   "cell_type": "code",
   "execution_count": 17,
   "metadata": {
    "collapsed": false
   },
   "outputs": [
    {
     "name": "stdout",
     "output_type": "stream",
     "text": [
      "(40000,)\n",
      "(80000,)\n",
      "(120000,)\n",
      "(160000,)\n",
      "(200000,)\n",
      "(240000,)\n",
      "(280000,)\n",
      "(320000,)\n",
      "(8, 200, 200, 1)\n"
     ]
    }
   ],
   "source": [
    "# Read training images into array of shape (80, 200, 200, 1)\n",
    "train_data_onedimension = np.array([]) #np.empty([80,200,200,1])\n",
    "for dataset in range(1, 9):\n",
    "    for img_counter in range(1, 2):\n",
    "        dataset_str = str(dataset).zfill(3)\n",
    "        image_str = str(img_counter).zfill(4)\n",
    "        filename = \"/notebooks/synthetic/data001/move\" + \\\n",
    "                dataset_str+\"_\"+image_str+\".gif\"\n",
    "        a = image_2_array(filename)\n",
    "        train_data_onedimension = np.append(train_data_onedimension,a)\n",
    "        print train_data_onedimension.shape\n",
    "\n",
    "images_in_set = train_data_onedimension.size / (200*200)\n",
    "train_data = train_data_onedimension.reshape(images_in_set, 200, 200, 1)\n",
    "print train_data.shape"
   ]
  },
  {
   "cell_type": "markdown",
   "metadata": {},
   "source": [
    "Training dataset is ready. \n",
    "\n",
    "*Note!* dataset should be trained with N images on input and 1 image on output. (test with N = 3..5)"
   ]
  },
  {
   "cell_type": "code",
   "execution_count": null,
   "metadata": {
    "collapsed": true
   },
   "outputs": [],
   "source": []
  }
 ],
 "metadata": {
  "kernelspec": {
   "display_name": "Python 2",
   "language": "python",
   "name": "python2"
  },
  "language_info": {
   "codemirror_mode": {
    "name": "ipython",
    "version": 2
   },
   "file_extension": ".py",
   "mimetype": "text/x-python",
   "name": "python",
   "nbconvert_exporter": "python",
   "pygments_lexer": "ipython2",
   "version": "2.7.6"
  }
 },
 "nbformat": 4,
 "nbformat_minor": 1
}
